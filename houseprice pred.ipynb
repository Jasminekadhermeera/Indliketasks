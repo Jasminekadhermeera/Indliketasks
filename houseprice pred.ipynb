{
 "cells": [
  {
   "cell_type": "code",
   "execution_count": 1,
   "id": "97d5689d-cfd4-406d-a15f-2251cc387b53",
   "metadata": {},
   "outputs": [
    {
     "name": "stdout",
     "output_type": "stream",
     "text": [
      "Requirement already satisfied: kaggle in c:\\users\\habee\\anaconda3\\lib\\site-packages (1.6.17)\n",
      "Requirement already satisfied: six>=1.10 in c:\\users\\habee\\anaconda3\\lib\\site-packages (from kaggle) (1.17.0)\n",
      "Requirement already satisfied: certifi>=2023.7.22 in c:\\users\\habee\\anaconda3\\lib\\site-packages (from kaggle) (2024.12.14)\n",
      "Requirement already satisfied: python-dateutil in c:\\users\\habee\\anaconda3\\lib\\site-packages (from kaggle) (2.9.0.post0)\n",
      "Requirement already satisfied: requests in c:\\users\\habee\\anaconda3\\lib\\site-packages (from kaggle) (2.32.3)\n",
      "Requirement already satisfied: tqdm in c:\\users\\habee\\anaconda3\\lib\\site-packages (from kaggle) (4.67.1)\n",
      "Requirement already satisfied: python-slugify in c:\\users\\habee\\anaconda3\\lib\\site-packages (from kaggle) (5.0.2)\n",
      "Requirement already satisfied: urllib3 in c:\\users\\habee\\anaconda3\\lib\\site-packages (from kaggle) (2.3.0)\n",
      "Requirement already satisfied: bleach in c:\\users\\habee\\anaconda3\\lib\\site-packages (from kaggle) (4.1.0)\n",
      "Requirement already satisfied: packaging in c:\\users\\habee\\anaconda3\\lib\\site-packages (from bleach->kaggle) (24.2)\n",
      "Requirement already satisfied: webencodings in c:\\users\\habee\\anaconda3\\lib\\site-packages (from bleach->kaggle) (0.5.1)\n",
      "Requirement already satisfied: text-unidecode>=1.3 in c:\\users\\habee\\anaconda3\\lib\\site-packages (from python-slugify->kaggle) (1.3)\n",
      "Requirement already satisfied: charset-normalizer<4,>=2 in c:\\users\\habee\\anaconda3\\lib\\site-packages (from requests->kaggle) (3.4.1)\n",
      "Requirement already satisfied: idna<4,>=2.5 in c:\\users\\habee\\anaconda3\\lib\\site-packages (from requests->kaggle) (3.10)\n",
      "Requirement already satisfied: colorama in c:\\users\\habee\\anaconda3\\lib\\site-packages (from tqdm->kaggle) (0.4.6)\n",
      "Note: you may need to restart the kernel to use updated packages.\n"
     ]
    }
   ],
   "source": [
    "pip install kaggle\n"
   ]
  },
  {
   "cell_type": "code",
   "execution_count": 2,
   "id": "d0f77e4c-fdff-4e72-abe9-b9ca3f5831fa",
   "metadata": {},
   "outputs": [
    {
     "name": "stdout",
     "output_type": "stream",
     "text": [
      "   Index                                              Title  \\\n",
      "0      0  1 BHK Ready to Occupy Flat for sale in Srushti...   \n",
      "1      1  2 BHK Ready to Occupy Flat for sale in Dosti V...   \n",
      "2      2  2 BHK Ready to Occupy Flat for sale in Sunrise...   \n",
      "3      3        1 BHK Ready to Occupy Flat for sale Kasheli   \n",
      "4      4  2 BHK Ready to Occupy Flat for sale in TenX Ha...   \n",
      "\n",
      "                                         Description Amount(in rupees)  \\\n",
      "0  Bhiwandi, Thane has an attractive 1 BHK Flat f...           42 Lac    \n",
      "1  One can find this stunning 2 BHK flat for sale...           98 Lac    \n",
      "2  Up for immediate sale is a 2 BHK apartment in ...          1.40 Cr    \n",
      "3  This beautiful 1 BHK Flat is available for sal...           25 Lac    \n",
      "4  This lovely 2 BHK Flat in Pokhran Road, Thane ...          1.60 Cr    \n",
      "\n",
      "   Price (in rupees) location Carpet Area         Status         Floor  \\\n",
      "0             6000.0    thane    500 sqft  Ready to Move  10 out of 11   \n",
      "1            13799.0    thane    473 sqft  Ready to Move   3 out of 22   \n",
      "2            17500.0    thane    779 sqft  Ready to Move  10 out of 29   \n",
      "3                NaN    thane    530 sqft  Ready to Move    1 out of 3   \n",
      "4            18824.0    thane    635 sqft  Ready to Move  20 out of 42   \n",
      "\n",
      "  Transaction  ... facing             overlooking  \\\n",
      "0      Resale  ...    NaN                     NaN   \n",
      "1      Resale  ...   East             Garden/Park   \n",
      "2      Resale  ...   East             Garden/Park   \n",
      "3      Resale  ...    NaN                     NaN   \n",
      "4      Resale  ...   West  Garden/Park, Main Road   \n",
      "\n",
      "                               Society Bathroom Balcony Car Parking  \\\n",
      "0  Srushti Siddhi Mangal Murti Complex        1       2         NaN   \n",
      "1                          Dosti Vihar        2     NaN      1 Open   \n",
      "2                 Sunrise by Kalpataru        2     NaN   1 Covered   \n",
      "3                                  NaN        1       1         NaN   \n",
      "4          TenX Habitat Raymond Realty        2     NaN   1 Covered   \n",
      "\n",
      "              Ownership Super Area Dimensions  Plot Area  \n",
      "0                   NaN        NaN        NaN        NaN  \n",
      "1              Freehold        NaN        NaN        NaN  \n",
      "2              Freehold        NaN        NaN        NaN  \n",
      "3                   NaN        NaN        NaN        NaN  \n",
      "4  Co-operative Society        NaN        NaN        NaN  \n",
      "\n",
      "[5 rows x 21 columns]\n",
      "Index(['Index', 'Title', 'Description', 'Amount(in rupees)',\n",
      "       'Price (in rupees)', 'location', 'Carpet Area', 'Status', 'Floor',\n",
      "       'Transaction', 'Furnishing', 'facing', 'overlooking', 'Society',\n",
      "       'Bathroom', 'Balcony', 'Car Parking', 'Ownership', 'Super Area',\n",
      "       'Dimensions', 'Plot Area'],\n",
      "      dtype='object')\n"
     ]
    }
   ],
   "source": [
    "import pandas as pd\n",
    "\n",
    "\n",
    "df = pd.read_csv(\"C:/Users/habee/OneDrive/Desktop/house_prices.csv\")\n",
    "\n",
    "\n",
    "print(df.head())\n",
    "\n",
    "\n",
    "print(df.columns)\n"
   ]
  },
  {
   "cell_type": "code",
   "execution_count": 11,
   "id": "f6730559-96f4-4bc2-bb0b-4ce5776c5807",
   "metadata": {},
   "outputs": [
    {
     "name": "stdout",
     "output_type": "stream",
     "text": [
      "Available Columns: Index(['Index', 'Title', 'Description', 'Amount(in rupees)',\n",
      "       'Price (in rupees)', 'location', 'Carpet Area', 'Status', 'Floor',\n",
      "       'Transaction', 'Furnishing', 'facing', 'overlooking', 'Society',\n",
      "       'Bathroom', 'Balcony', 'Car Parking', 'Ownership', 'Super Area',\n",
      "       'Dimensions', 'Plot Area'],\n",
      "      dtype='object')\n",
      "✅ Model Performance:\n",
      "Mean Squared Error: 890497331.19\n",
      "R² Score: 0.0035\n"
     ]
    },
    {
     "data": {
      "image/png": "[encoded data removed]",
      "text/plain": [
       "<Figure size 800x600 with 1 Axes>"
      ]
     },
     "metadata": {},
     "output_type": "display_data"
    }
   ],
   "source": [
    "import pandas as pd\n",
    "import numpy as np\n",
    "import matplotlib.pyplot as plt\n",
    "import seaborn as sns\n",
    "from sklearn.model_selection import train_test_split\n",
    "from sklearn.linear_model import LinearRegression\n",
    "from sklearn.metrics import mean_squared_error, r2_score\n",
    "\n",
    "\n",
    "df = pd.read_csv(\"C:/Users/habee/OneDrive/Desktop/house_prices.csv\")\n",
    "\n",
    "\n",
    "print(\"Available Columns:\", df.columns)\n",
    "\n",
    "df = df[['Carpet Area', 'Bathroom', 'Price (in rupees)']]\n",
    "\n",
    "\n",
    "df = df.dropna()\n",
    "\n",
    "\n",
    "df['Carpet Area'] = df['Carpet Area'].astype(str).str.extract('(\\d+)').astype(float)\n",
    "\n",
    "\n",
    "df['Bathroom'] = df['Bathroom'].astype(str).str.extract('(\\d+)').astype(float)\n",
    "\n",
    "# 🔹 Convert 'Price (in rupees)' to numeric\n",
    "df['Price (in rupees)'] = pd.to_numeric(df['Price (in rupees)'], errors='coerce')\n",
    "\n",
    "# 🔹 Drop any rows with missing values after conversion\n",
    "df = df.dropna()\n",
    "\n",
    "# 🔹 Define features (X) and target (y)\n",
    "X = df[['Carpet Area', 'Bathroom']]\n",
    "y = df['Price (in rupees)']\n",
    "\n",
    "# 🔹 Split the dataset into training (80%) and testing (20%)\n",
    "X_train, X_test, y_train, y_test = train_test_split(X, y, test_size=0.2, random_state=42)\n",
    "\n",
    "# 🔹 Train Linear Regression model\n",
    "model = LinearRegression()\n",
    "model.fit(X_train, y_train)\n",
    "\n",
    "# 🔹 Predict on test data\n",
    "y_pred = model.predict(X_test)\n",
    "\n",
    "# 🔹 Evaluate the model\n",
    "mse = mean_squared_error(y_test, y_pred)\n",
    "r2 = r2_score(y_test, y_pred)\n",
    "\n",
    "print(f\"✅ Model Performance:\")\n",
    "print(f\"Mean Squared Error: {mse:.2f}\")\n",
    "print(f\"R² Score: {r2:.4f}\")\n",
    "\n",
    "# 🔹 Visualize Predictions vs Actual\n",
    "plt.figure(figsize=(8, 6))\n",
    "plt.scatter(y_test, y_pred, alpha=0.6)\n",
    "plt.xlabel(\"Actual Prices (in rupees)\")\n",
    "plt.ylabel(\"Predicted Prices (in rupees)\")\n",
    "plt.title(\"Actual vs Predicted House Prices\")\n",
    "plt.show()\n"
   ]
  },
  {
   "cell_type": "code",
   "execution_count": null,
   "id": "690f0605-2340-4c45-a36a-21361f24d4da",
   "metadata": {},
   "outputs": [],
   "source": []
  },
  {
   "cell_type": "code",
   "execution_count": null,
   "id": "6664b6b0-2886-4d6b-bd11-27711567e8c2",
   "metadata": {},
   "outputs": [],
   "source": []
  }
 ],
 "metadata": {
  "kernelspec": {
   "display_name": "Python 3 (ipykernel)",
   "language": "python",
   "name": "python3"
  },
  "language_info": {
   "codemirror_mode": {
    "name": "ipython",
    "version": 3
   },
   "file_extension": ".py",
   "mimetype": "text/x-python",
   "name": "python",
   "nbconvert_exporter": "python",
   "pygments_lexer": "ipython3",
   "version": "3.11.5"
  }
 },
 "nbformat": 4,
 "nbformat_minor": 5
}
